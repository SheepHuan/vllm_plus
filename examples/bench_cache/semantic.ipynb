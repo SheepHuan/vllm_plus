{
 "cells": [
  {
   "cell_type": "code",
   "execution_count": 1,
   "metadata": {},
   "outputs": [
    {
     "name": "stderr",
     "output_type": "stream",
     "text": [
      "/root/miniconda3/envs/vllm/lib/python3.12/site-packages/tqdm/auto.py:21: TqdmWarning: IProgress not found. Please update jupyter and ipywidgets. See https://ipywidgets.readthedocs.io/en/stable/user_install.html\n",
      "  from .autonotebook import tqdm as notebook_tqdm\n"
     ]
    }
   ],
   "source": [
    "from sentence_transformers import SentenceTransformer, util\n",
    "\n",
    "sentence_model = SentenceTransformer('sentence-transformers/all-MiniLM-L6-v2',device=\"cuda\")\n",
    "def sentence_embedding(sentence):\n",
    "    return sentence_model.encode(sentence)"
   ]
  },
  {
   "cell_type": "code",
   "execution_count": 2,
   "metadata": {},
   "outputs": [
    {
     "name": "stderr",
     "output_type": "stream",
     "text": [
      "Loading checkpoint shards: 100%|██████████| 4/4 [00:04<00:00,  1.18s/it]\n"
     ]
    }
   ],
   "source": [
    "from transformers import AutoModelForCausalLM, AutoTokenizer,TextIteratorStreamer\n",
    "import torch\n",
    "import os\n",
    "# os.environ[\"HF_ENDPOINT\"] = \"https://huggingface.co\"\n",
    "\n",
    "model_name = \"Qwen/Qwen2.5-7B-Instruct\"\n",
    "model = AutoModelForCausalLM.from_pretrained(model_name,device_map=\"cuda\",\n",
    "                                             torch_dtype=torch.bfloat16,\n",
    "                                            #  proxies={\"http\": \"http://172.16.101.87:7897\", \"https\": \"http://172.16.101.87:7897\"}\n",
    "                                             )\n",
    "tokenizer = AutoTokenizer.from_pretrained(model_name,device_map=\"cuda\",torch_dtype=torch.bfloat16)\n",
    "\n",
    "def min_max_normalization(matrix):\n",
    "    min_val = torch.min(matrix)\n",
    "    max_val = torch.max(matrix)\n",
    "    return (matrix - min_val) / (max_val - min_val)\n",
    "\n",
    "def generate(query,past_key_values=None):\n",
    "    model_inputs = tokenizer(query, return_tensors=\"pt\").to(\"cuda\")\n",
    "    generate_kwargs = {\n",
    "            'max_new_tokens': 1,\n",
    "            'past_key_values': past_key_values,\n",
    "            'pad_token_id': tokenizer.eos_token_id,\n",
    "            'top_p': 0.95,\n",
    "            'temperature': 0.1,\n",
    "            'repetition_penalty': 1.0,\n",
    "            'top_k': 50,\n",
    "            \"return_dict_in_generate\":True,\n",
    "            \"output_attentions\":True,\n",
    "        }\n",
    "    if past_key_values is not None:\n",
    "        past_length = past_key_values[0][0].shape[2] if past_key_values is not None else 0\n",
    "        cache_position = torch.arange(\n",
    "            past_length if past_length == model_inputs.input_ids.shape[1] else past_length, model_inputs.input_ids.shape[1], device=model_inputs.input_ids.device\n",
    "        )\n",
    "        generate_kwargs['cache_position'] = cache_position\n",
    "    outputs = model.generate(**model_inputs, **generate_kwargs)\n",
    "    past_key_values = outputs.past_key_values\n",
    "    generated_ids = [\n",
    "            output_ids[len(input_ids):] for input_ids, output_ids in zip(model_inputs.input_ids, outputs.sequences)\n",
    "        ]\n",
    "    atten = outputs.attentions\n",
    "    response = tokenizer.batch_decode(generated_ids, skip_special_tokens=True)[0]\n",
    "\n",
    "    return response,model_inputs.input_ids,past_key_values,atten\n"
   ]
  },
  {
   "cell_type": "code",
   "execution_count": 4,
   "metadata": {},
   "outputs": [
    {
     "name": "stderr",
     "output_type": "stream",
     "text": [
      "Repo card metadata block was not found. Setting CardData to empty.\n",
      "100%|██████████| 40430/40430 [00:01<00:00, 24272.17it/s]\n"
     ]
    }
   ],
   "source": [
    "import datasets\n",
    "import tqdm\n",
    "dataset = datasets.load_dataset(\"SetFit/qqp\")\n",
    "\n",
    "f = open(\"/root/code/vllm_plus/examples/bench_cache/data/qqp_val.txt\",\"w\")\n",
    "for item in tqdm.tqdm(dataset[\"validation\"]):\n",
    "    text1,text2,label = item[\"text1\"],item[\"text2\"],item[\"label\"]\n",
    "    f.write(f\"{text1}\\t{text2}\\t{label}\\n\")\n",
    "f.close()\n",
    "pass"
   ]
  },
  {
   "cell_type": "code",
   "execution_count": 3,
   "metadata": {},
   "outputs": [
    {
     "name": "stderr",
     "output_type": "stream",
     "text": [
      "  0%|          | 0/1000 [00:00<?, ?it/s]`torch.nn.functional.scaled_dot_product_attention` does not support `output_attentions=True`. Falling back to eager attention. This warning can be removed using the argument `attn_implementation=\"eager\"` when loading the model.\n",
      "From v4.47 onwards, when a model cache is to be returned, `generate` will return a `Cache` instance instead by default (as opposed to the legacy tuple of tuples format). If you want to keep returning the legacy format, please set `return_legacy_cache=True`.\n",
      "100%|██████████| 1000/1000 [01:04<00:00, 15.62it/s]\n",
      "  0%|          | 0/1000 [00:00<?, ?it/s]/root/miniconda3/envs/vllm/lib/python3.12/site-packages/sentence_transformers/util.py:44: UserWarning: Creating a tensor from a list of numpy.ndarrays is extremely slow. Please consider converting the list to a single numpy.ndarray with numpy.array() before converting to a tensor. (Triggered internally at ../torch/csrc/utils/tensor_new.cpp:278.)\n",
      "  a = torch.tensor(a)\n",
      "100%|██████████| 1000/1000 [00:08<00:00, 111.70it/s]\n"
     ]
    }
   ],
   "source": [
    "def token_embedding(sentence):\n",
    "    response,input_ids,past_key_values,attens = generate(sentence)\n",
    "    tokens_embeddings = model.model.embed_tokens(input_ids).cpu().to(torch.float32)\n",
    "    layer_idx = -1\n",
    "    attens = attens[0][layer_idx].cpu().to(torch.float32)\n",
    "    attens = attens.mean(dim=1)\n",
    "    weights = min_max_normalization(attens).max(dim=-1).values.unsqueeze(0)\n",
    "\n",
    "    sentence_embedding = torch.matmul(weights,tokens_embeddings)\n",
    "    # sentence_embedding = torch.mean(tokens_embeddings,dim=1).unsqueeze(0)\n",
    "    # print(sentence_embedding[0].shape)\n",
    "    return sentence_embedding[0]\n",
    "\n",
    "\n",
    "def load_tsv(file_path):\n",
    "    with open(file_path, 'r', encoding='utf-8') as file:\n",
    "        lines = file.readlines()\n",
    "    data = []\n",
    "    for line in lines:\n",
    "        parts = line.strip().split('\\t')\n",
    "        if len(parts) == 3:\n",
    "            data.append((parts[0], parts[1],parts[2]))\n",
    "    return data\n",
    "from tqdm import tqdm  # 添加 tqdm 导入\n",
    "data = load_tsv(\"/root/code/vllm_plus/examples/bench_cache/data/lcqmc/train.tsv\")\n",
    "\n",
    "log = \"/root/code/vllm_plus/examples/bench_cache/data/token_embedding.txt\"\n",
    "f = open(log,\"w\")\n",
    "for item in tqdm(data[:1000]):  # 使用 tqdm 包装循环\n",
    "    s1, s2, label = item\n",
    "    a1 = token_embedding(s1)\n",
    "    a2 = token_embedding(s2)\n",
    "    cosine_similarity = torch.nn.functional.cosine_similarity(a1, a2).item()\n",
    "    f.write(f\"{s1},{s2},{label},{cosine_similarity}\\n\")\n",
    "\n",
    "log = \"/root/code/vllm_plus/examples/bench_cache/data/sentence_embedding.txt\"\n",
    "f = open(log,\"w\")\n",
    "for item in tqdm(data[:1000]):  # 使用 tqdm 包装循环\n",
    "    s1, s2, label = item\n",
    "    a1 = sentence_embedding(s1)\n",
    "    a2 = sentence_embedding(s2)\n",
    "    cosine_similarity = util.dot_score([a1], [a2]).item()\n",
    "    f.write(f\"{s1},{s2},{label},{cosine_similarity}\\n\")\n",
    "\n",
    "\n",
    "\n"
   ]
  },
  {
   "cell_type": "code",
   "execution_count": 18,
   "metadata": {},
   "outputs": [
    {
     "name": "stdout",
     "output_type": "stream",
     "text": [
      "token_embedding: 0.626 sentence_embedding: 0.736\n",
      "token_embedding: 0.678 sentence_embedding: 0.8\n",
      "token_embedding: 0.681 sentence_embedding: 0.768\n",
      "token_embedding: 0.673 sentence_embedding: 0.729\n"
     ]
    }
   ],
   "source": [
    "import numpy as np\n",
    "\n",
    "def compute_acc(similaritys,labels,threshold=0.5):\n",
    "    similarity = np.array(similaritys)\n",
    "    labels = np.array(labels)\n",
    "    pred = (similarity > threshold).astype(int)\n",
    "    acc = np.mean(pred == labels)\n",
    "    return acc\n",
    "\n",
    "\n",
    "log1 = \"/root/code/vllm_plus/examples/bench_cache/data/token_embedding.txt\"\n",
    "log2 = \"/root/code/vllm_plus/examples/bench_cache/data/sentence_embedding.txt\"\n",
    "\n",
    "with open(log1,\"r\") as f:\n",
    "    lines = f.readlines()\n",
    "    similaritys1 = [float(line.split(\",\")[-1]) for line in lines]\n",
    "    labels1 = [float(line.split(\",\")[-2]) for line in lines]\n",
    "\n",
    "with open(log2,\"r\") as f:\n",
    "    lines = f.readlines()\n",
    "    similaritys2 = [float(line.split(\",\")[-1]) for line in lines]\n",
    "    labels2 = [float(line.split(\",\")[-2]) for line in lines]\n",
    "\n",
    "for t in [0.7,0.8,0.9,0.95]:\n",
    "    print(\"token_embedding:\",compute_acc(similaritys1,labels1,t),\"sentence_embedding:\",compute_acc(similaritys2,labels2,t))\n",
    "\n"
   ]
  }
 ],
 "metadata": {
  "kernelspec": {
   "display_name": "vllm",
   "language": "python",
   "name": "python3"
  },
  "language_info": {
   "codemirror_mode": {
    "name": "ipython",
    "version": 3
   },
   "file_extension": ".py",
   "mimetype": "text/x-python",
   "name": "python",
   "nbconvert_exporter": "python",
   "pygments_lexer": "ipython3",
   "version": "3.12.8"
  }
 },
 "nbformat": 4,
 "nbformat_minor": 2
}
